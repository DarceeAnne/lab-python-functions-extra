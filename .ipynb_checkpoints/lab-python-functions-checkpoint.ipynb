{
 "cells": [
  {
   "cell_type": "markdown",
   "id": "25d7736c-ba17-4aff-b6bb-66eba20fbf4e",
   "metadata": {},
   "source": [
    "# Lab | Functions"
   ]
  },
  {
   "cell_type": "markdown",
   "id": "6f8e446f-16b4-4e21-92e7-9d3d1eb551b6",
   "metadata": {},
   "source": [
    "Objective: Practice how to define and call functions, pass arguments, return values, and handle scope. "
   ]
  },
  {
   "cell_type": "markdown",
   "id": "e253e768-aed8-4791-a800-87add1204afa",
   "metadata": {},
   "source": [
    "## Challenge 1: completing functions based on docstring\n",
    "\n",
    "Complete the functions below according to the docstring, and test them by calling them to make sure they are well implemented."
   ]
  },
  {
   "cell_type": "code",
   "execution_count": 9,
   "id": "df908bed-acc6-4b67-b33a-f3b1c564a49f",
   "metadata": {},
   "outputs": [
    {
     "name": "stdout",
     "output_type": "stream",
     "text": [
      "Unique values: ['Ron', 'Lupin', 'Hagrid', 'Harry', 'Hermione', 'Ginny', 'Hedwig']\n"
     ]
    }
   ],
   "source": [
    "input_list = [\"Harry\", \"Ron\", \"Harry\", \"Hermione\", \"Hedwig\", \"Harry\", \"Hagrid\", \"Ron\", \"Ginny\", \"Lupin\"]\n",
    "\n",
    "def get_unique_list(lst):\n",
    "    \"\"\"\n",
    "    Takes a list as an argument and returns a new list with unique elements from the first list.\n",
    "\n",
    "    Parameters:\n",
    "    lst (list): The input list.\n",
    "\n",
    "    Returns:\n",
    "    list: A new list with unique elements from the input list.\n",
    "    \"\"\"\n",
    "    unique_values = list(set(lst))\n",
    "    print(\"Unique values:\", unique_values)\n",
    "\n",
    "get_unique_list(input_list)"
   ]
  },
  {
   "cell_type": "code",
   "execution_count": 11,
   "id": "7d5c8e34-a116-4428-ab9d-e0e15e338fff",
   "metadata": {},
   "outputs": [
    {
     "name": "stdout",
     "output_type": "stream",
     "text": [
      "Number of uppercase letters: 11\n",
      "Number of lowercase letters: 650\n"
     ]
    }
   ],
   "source": [
    "input_string= \"No scheme could have been more agreeable to Elizabeth, and her acceptance of the invitation was most ready and grateful. 'Oh, my dear, dear aunt,' she rapturously cried, 'what delight! what felicity! You give me fresh life and vigour. Adieu to disappointment and spleen. What are young men to rocks and mountains? Oh! what hours of transport we shall spend! And when we do return, it shall not be like other travellers, without being able to give one accurate idea of anything. We will know where we have gone—we will recollect what we have seen. Lakes, mountains, and rivers shall not be jumbled together in our imaginations; nor when we attempt to describe any particular scene, will we begin quarreling about its relative situation. Let our first effusions be less insupportable than those of the generality of travellers.'\"\n",
    "\n",
    "def count_case(string):\n",
    "    \"\"\"\n",
    "    Returns the number of uppercase and lowercase letters in the given string.\n",
    "\n",
    "    Parameters:\n",
    "    string (str): The string to count uppercase and lowercase letters in.\n",
    "\n",
    "    Returns:\n",
    "    A tuple containing the count of uppercase and lowercase letters in the string.\n",
    "    \"\"\"\n",
    "    upper_count = 0\n",
    "    lower_count = 0\n",
    "    for char in string:\n",
    "        if char.isupper():\n",
    "            upper_count += 1\n",
    "        elif char.islower():\n",
    "            lower_count += 1\n",
    "    return upper_count, lower_count\n",
    "\n",
    "\n",
    "upper_count, lower_count = count_case(input_string)\n",
    "print(\"Number of uppercase letters:\", upper_count)\n",
    "print(\"Number of lowercase letters:\", lower_count)"
   ]
  },
  {
   "cell_type": "code",
   "execution_count": 15,
   "id": "c15b91d4-cfd6-423b-9f36-76012b8792b8",
   "metadata": {},
   "outputs": [
    {
     "name": "stdout",
     "output_type": "stream",
     "text": [
      "No scheme could have been more agreeable to Elizabeth and her acceptance of the invitation was most ready and grateful\n",
      "There are 20 words in the sentence you entered.\n"
     ]
    }
   ],
   "source": [
    "import string\n",
    "input_string= \"No scheme could have been more agreeable to Elizabeth, and her acceptance of the invitation was most ready and grateful.\"\n",
    "\n",
    "def remove_punctuation(sentence):\n",
    "    \"\"\"\n",
    "    Removes all punctuation marks (commas, periods, exclamation marks, question marks) from a sentence.\n",
    "\n",
    "    Parameters:\n",
    "    sentence (str): A string representing a sentence.\n",
    "\n",
    "    Returns:\n",
    "    str: The sentence without any punctuation marks.\n",
    "    \"\"\"\n",
    "    sentence_no_punc = str.maketrans('', '', string.punctuation)\n",
    "    return sentence.translate(sentence_no_punc)\n",
    "\n",
    "print(remove_punctuation(input_string))\n",
    "\n",
    "def word_count(sentence):\n",
    "    \"\"\"\n",
    "    Counts the number of words in a given sentence. To do this properly, first it removes punctuation from the sentence.\n",
    "    Note: A word is defined as a sequence of characters separated by spaces. We can assume that there will be no leading or trailing spaces in the input sentence.\n",
    "    \n",
    "    Parameters:\n",
    "    sentence (str): A string representing a sentence.\n",
    "\n",
    "    Returns:\n",
    "    int: The number of words in the sentence.\n",
    "    \"\"\"\n",
    "    \n",
    "    words = sentence.split()\n",
    "    return len(words)\n",
    "\n",
    "count = word_count(input_string)\n",
    "print(f\"There are {count} words in the sentence you entered.\")"
   ]
  },
  {
   "cell_type": "markdown",
   "id": "fb01ccba-2ecc-4eea-b9a9-2bf9d29e8804",
   "metadata": {},
   "source": [
    "## Challenge 2: Build a Calculator\n",
    "\n",
    "In this exercise, you will build a calculator using Python functions. The calculator will be able to perform basic arithmetic operations like addition, subtraction, multiplication, and division.\n",
    "\n",
    "Instructions\n",
    "- Define four functions for addition, subtraction, multiplication, and division.\n",
    "- Each function should take two arguments, perform the respective arithmetic operation, and return the result.\n",
    "- Define another function called \"calculate\" that takes three arguments: two operands and an operator.\n",
    "- The \"calculate\" function should use a conditional statement to determine which arithmetic function to call based on the operator argument.\n",
    "- The \"calculate\" function should then call the appropriate arithmetic function and return the result.\n",
    "- Test your \"calculate\" function by calling it with different input parameters.\n"
   ]
  },
  {
   "cell_type": "code",
   "execution_count": 34,
   "id": "57f9afc7-8626-443c-9c3e-eb78ef503193",
   "metadata": {},
   "outputs": [
    {
     "data": {
      "text/plain": [
       "2"
      ]
     },
     "execution_count": 34,
     "metadata": {},
     "output_type": "execute_result"
    }
   ],
   "source": [
    "def addition(a,b):\n",
    "    \"\"\"Adds two integers or floats. \n",
    "    \n",
    "    Parameters:\n",
    "    Two numers (a and b) either integers or floats.\n",
    "    \n",
    "    Returns:\n",
    "    int: The sum of two numbers.\n",
    "    float The sum of two numbers.\n",
    "    \"\"\"\n",
    "    return a+b\n",
    "\n",
    "def subtraction(a,b):\n",
    "    \"\"\"Subtracts b from a. \n",
    "    \n",
    "    Parameters:\n",
    "    two numers (a and b) either integers or floats.\n",
    "    \n",
    "    Returns:\n",
    "    int: The difference of two numbers.\n",
    "    float The difference of two numbers.\n",
    "    \"\"\"\n",
    "    return a-b\n",
    "\n",
    "def multiplication(a,b):\n",
    "    \"\"\"Multiplies a times b. \n",
    "    \n",
    "    Parameters:\n",
    "    Two numers (a and b) either integers or floats.\n",
    "    \n",
    "    Returns:\n",
    "    int: The multiplication of two numbers.\n",
    "    float The multiplication of two numbers.\n",
    "    \"\"\"\n",
    "    return a*b\n",
    "\n",
    "def division(a,b):\n",
    "    \"\"\"Divides a by b. \n",
    "    \n",
    "    Parameters:\n",
    "    Two numers (a and b) either integers or floats.\n",
    "    \n",
    "    Returns:\n",
    "    int: The division of two numbers.\n",
    "    float The division of two numbers.\n",
    "    \"\"\"\n",
    "    return a/b\n",
    "\n",
    "def calculate(a,b,operator):\n",
    "    \"\"\"Calculates the addition, subtraction, multiplication, or division of two numbers.\n",
    "    \n",
    "    Parameters:\n",
    "    Two numers (a and b) either integers or floats.\n",
    "    operator(str): \"addition\", \"subtraction\", \"multiplication\", or \"division\"\n",
    "    \n",
    "    Returns:\n",
    "    int or float depending on the values given for a and b.\n",
    "    \"\"\"\n",
    "    if operator == \"addition\":\n",
    "        print(addition(a,b))\n",
    "    elif operator == \"subtraction\":\n",
    "        print(subtraction(a,b))\n",
    "    elif operator == 'multiplication':\n",
    "        return multiplication(a, b)\n",
    "    elif operator == 'division':\n",
    "        return division(a, b)\n",
    "    else:\n",
    "        return \"Invalid operator\"\n",
    "\n",
    "calculate(1,2,\"multiplication\")\n",
    "        "
   ]
  },
  {
   "cell_type": "markdown",
   "id": "d1784c63-208c-4553-9686-acac6c0a9dda",
   "metadata": {},
   "source": [
    "### Bonus: args and kwargs\n",
    "\n",
    "Update the previous exercise so it allows for adding, subtracting, and multiplying more than 2 numbers.\n",
    "\n",
    "The calculator will be able to perform basic arithmetic operations like addition, subtraction, multiplication, and division on multiple numbers.\n",
    "\n",
    "*Hint: use args or kwargs. Recommended external resource: [Args and Kwargs in Python](https://www.geeksforgeeks.org/args-kwargs-python/)*"
   ]
  },
  {
   "cell_type": "code",
   "execution_count": 35,
   "id": "ff3e816c-13ab-447d-a6f2-bb47a8fad2e2",
   "metadata": {},
   "outputs": [
    {
     "data": {
      "text/plain": [
       "24"
      ]
     },
     "execution_count": 35,
     "metadata": {},
     "output_type": "execute_result"
    }
   ],
   "source": [
    "def addition(*args):\n",
    "    \"\"\"Adds any number of integers or floats.\n",
    "    \n",
    "    Parameters:\n",
    "    *args: Variable number of integers or floats to add.\n",
    "    \n",
    "    Returns:\n",
    "    int or float: The sum of all numbers provided.\n",
    "    \"\"\"\n",
    "    return sum(args)\n",
    "\n",
    "def subtraction(*args):\n",
    "    \"\"\"Subtracts subsequent numbers from the first number.\n",
    "    \n",
    "    Parameters:\n",
    "    *args: Variable number of integers or floats.\n",
    "    \n",
    "    Returns:\n",
    "    int or float: The result of the subtraction.\n",
    "    \"\"\"\n",
    "    result = args[0]\n",
    "    for num in args[1:]:\n",
    "        result -= num\n",
    "    return result\n",
    "\n",
    "def multiplication(*args):\n",
    "    \"\"\"Multiplies any number of integers or floats.\n",
    "    \n",
    "    Parameters:\n",
    "    *args: Variable number of integers or floats to multiply.\n",
    "    \n",
    "    Returns:\n",
    "    int or float: The product of all numbers provided.\n",
    "    \"\"\"\n",
    "    result = 1\n",
    "    for num in args:\n",
    "        result *= num\n",
    "    return result\n",
    "\n",
    "def division(*args):\n",
    "    \"\"\"Divides the first number by subsequent numbers.\n",
    "    \n",
    "    Parameters:\n",
    "    *args: Variable number of integers or floats.\n",
    "    \n",
    "    Returns:\n",
    "    int or float: The result of the division.\n",
    "    \"\"\"\n",
    "    result = args[0]\n",
    "    for num in args[1:]:\n",
    "        result /= num\n",
    "    return result\n",
    "\n",
    "def calculate(operator, *args):\n",
    "    \"\"\"Calculates the result of the specified operation on any number of arguments.\n",
    "    \n",
    "    Parameters:\n",
    "    operator (str): \"addition\", \"subtraction\", \"multiplication\", or \"division\"\n",
    "    *args: Variable number of integers or floats.\n",
    "    \n",
    "    Returns:\n",
    "    int or float: The result of the calculation.\n",
    "    \"\"\"\n",
    "    if operator == \"addition\":\n",
    "        return addition(*args)\n",
    "    elif operator == \"subtraction\":\n",
    "        return subtraction(*args)\n",
    "    elif operator == \"multiplication\":\n",
    "        return multiplication(*args)\n",
    "    elif operator == \"division\":\n",
    "        return division(*args)\n",
    "    else:\n",
    "        return \"Invalid operator\"\n",
    "\n",
    "calculate(\"multiplication\", 2, 3, 4)\n"
   ]
  },
  {
   "cell_type": "markdown",
   "id": "af2de734-2a0e-4458-9cb8-57284b7108ae",
   "metadata": {},
   "source": [
    "## Challenge 3: importing functions from a Python file"
   ]
  },
  {
   "cell_type": "markdown",
   "id": "56780ce8-6610-4fb5-a4ef-22cd46af83d2",
   "metadata": {},
   "source": [
    "Moving the functions created in Challenge 1 to a Python file.\n",
    "\n",
    "- In the same directory as your Jupyter Notebook, create a new Python file called `functions.py`.\n",
    "- Copy and paste the functions you created earlier in the Jupyter Notebook into the functions.py file. Rename the functions to `get_unique_list_f, count_case_f, remove_punctuation_f, word_count_f`. Add the _f suffix to each function name to ensure that you're calling the functions from your file.\n",
    "- Save the `functions.py` file and switch back to the Jupyter Notebook.\n",
    "- In a new cell, import the functions from functions.py\n",
    "- Call each function with some sample input to test that they're working properly.\n",
    "\n",
    "There are several ways to import functions from a Python module such as functions.py to a Jupyter Notebook:\n",
    "\n",
    "1. Importing specific functions: If you only need to use a few functions from the module, you can import them individually using the from keyword. This way, you can call the functions directly using their names, without having to use the module name. For example:\n",
    "\n",
    "```python\n",
    "from function_file import function_name\n",
    "\n",
    "function_name(arguments)```\n",
    "\n",
    "2. Importing the entire module: You can import the entire module using the import keyword followed by the name of the module. Then, you can call the functions using the module_name.function_name() syntax. Example:\n",
    "\n",
    "```python\n",
    "import function_file\n",
    "\n",
    "function_file.function_name()\n",
    "```\n",
    "\n",
    "3. Renaming functions during import: You can also rename functions during import using the as keyword. This is useful if you want to use a shorter or more descriptive name for the function in your code. For example:\n",
    "\n",
    "```python\n",
    "from function_file import function_name as f\n",
    "\n",
    "f.function_name(arguments)\n",
    "```\n",
    "\n",
    "Regardless of which method you choose, make sure that the functions.py file is in the same directory as your Jupyter Notebook, or else specify the path to the file in the import statement or by using `sys.path`.\n",
    "\n",
    "You can find examples on how to import Python files into jupyter notebook here: \n",
    "- https://medium.com/cold-brew-code/a-quick-guide-to-understanding-pythons-import-statement-505eea2d601f\n",
    "- https://www.geeksforgeeks.org/absolute-and-relative-imports-in-python/\n",
    "- https://www.pythonforthelab.com/blog/complete-guide-to-imports-in-python-absolute-relative-and-more/\n",
    "\n"
   ]
  },
  {
   "cell_type": "markdown",
   "id": "14f222c5-e7bb-4626-b45c-bd735001f768",
   "metadata": {},
   "source": [
    "To ensure that any changes made to the Python file are reflected in the Jupyter Notebook upon import, we need to use an IPython extension that allows for automatic reloading of modules. Without this extension, changes made to the file won't be reloaded or refreshed in the notebook upon import.\n",
    "\n",
    "For that, we will include the following code:\n",
    "```python\n",
    "%load_ext autoreload\n",
    "%autoreload 2 \n",
    "```\n",
    "\n",
    "You can read more about this here: https://ipython.readthedocs.io/en/stable/config/extensions/autoreload.html"
   ]
  },
  {
   "cell_type": "code",
   "execution_count": 1,
   "id": "5832ecfe-c652-418d-8fbc-bac4b1166b40",
   "metadata": {},
   "outputs": [],
   "source": [
    "# IPython extension to reload modules before executing user code.\n",
    "%load_ext autoreload\n",
    "%autoreload 2 \n"
   ]
  },
  {
   "cell_type": "code",
   "execution_count": 2,
   "id": "e1010bc9",
   "metadata": {},
   "outputs": [],
   "source": [
    "import functions as f"
   ]
  },
  {
   "cell_type": "code",
   "execution_count": 3,
   "id": "21b14ee9",
   "metadata": {},
   "outputs": [],
   "source": [
    "input_list = [\"Harry\", \"Ron\", \"Harry\", \"Hermione\", \"Hedwig\", \"Harry\", \"Hagrid\", \"Ron\", \"Ginny\", \"Lupin\"]\n",
    "input_string= \"No scheme could have been more agreeable to Elizabeth, and her acceptance of the invitation was most ready and grateful. 'Oh, my dear, dear aunt,' she rapturously cried, 'what delight! what felicity! You give me fresh life and vigour. Adieu to disappointment and spleen. What are young men to rocks and mountains? Oh! what hours of transport we shall spend! And when we do return, it shall not be like other travellers, without being able to give one accurate idea of anything. We will know where we have gone—we will recollect what we have seen. Lakes, mountains, and rivers shall not be jumbled together in our imaginations; nor when we attempt to describe any particular scene, will we begin quarreling about its relative situation. Let our first effusions be less insupportable than those of the generality of travellers.'\"\n",
    "input_sentence= \"No scheme could have been more agreeable to Elizabeth, and her acceptance of the invitation was most ready and grateful.\"\n"
   ]
  },
  {
   "cell_type": "code",
   "execution_count": 4,
   "id": "3b72e11d",
   "metadata": {},
   "outputs": [
    {
     "name": "stdout",
     "output_type": "stream",
     "text": [
      "Unique values: ['Hagrid', 'Hermione', 'Lupin', 'Ginny', 'Hedwig', 'Ron', 'Harry']\n"
     ]
    }
   ],
   "source": [
    "f.get_unique_list(input_list)"
   ]
  },
  {
   "cell_type": "code",
   "execution_count": 5,
   "id": "ef797f8e",
   "metadata": {},
   "outputs": [
    {
     "data": {
      "text/plain": [
       "(11, 650)"
      ]
     },
     "execution_count": 5,
     "metadata": {},
     "output_type": "execute_result"
    }
   ],
   "source": [
    "f.count_case(input_string)"
   ]
  },
  {
   "cell_type": "code",
   "execution_count": 6,
   "id": "70303b34",
   "metadata": {},
   "outputs": [
    {
     "data": {
      "text/plain": [
       "'No scheme could have been more agreeable to Elizabeth and her acceptance of the invitation was most ready and grateful'"
      ]
     },
     "execution_count": 6,
     "metadata": {},
     "output_type": "execute_result"
    }
   ],
   "source": [
    "f.remove_punctuation(input_sentence)"
   ]
  },
  {
   "cell_type": "code",
   "execution_count": 7,
   "id": "ee36b743",
   "metadata": {},
   "outputs": [
    {
     "data": {
      "text/plain": [
       "20"
      ]
     },
     "execution_count": 7,
     "metadata": {},
     "output_type": "execute_result"
    }
   ],
   "source": [
    "f.word_count(input_sentence)"
   ]
  },
  {
   "cell_type": "markdown",
   "id": "06d0eb13-8dcb-4783-8f74-8f71beb2d0b4",
   "metadata": {},
   "source": [
    "## Bonus: recursive functions\n",
    "\n",
    "The Fibonacci sequence is a mathematical sequence that appears in various fields, including nature, finance, and computer science. It starts with 0 and 1, and each subsequent number is the sum of the two preceding numbers. The sequence goes like this: 0, 1, 1, 2, 3, 5, 8, 13, 21, 34, and so on.\n",
    "\n",
    "Write a Python function that uses recursion to compute the Fibonacci sequence up to a given number n.\n",
    "\n",
    "To accomplish this, create a function that calculates the Fibonacci number for a given input. For example, the 10th Fibonacci number is 55.\n",
    "Then create another function that generates a list of Fibonacci numbers from 0 to n.\n",
    "Test your function by calling it with different input parameters."
   ]
  },
  {
   "cell_type": "markdown",
   "id": "b1686493-48bb-47f1-b3c9-75994816b277",
   "metadata": {},
   "source": [
    "Example:\n",
    "\n",
    "*Expected output for n = 14:*\n",
    "\n",
    "*Fibonacci sequence: [1, 1, 2, 3, 5, 8, 13, 21, 34, 55, 89, 144, 233, 377]*"
   ]
  },
  {
   "cell_type": "code",
   "execution_count": 8,
   "id": "a1d55cea-96c3-4853-8220-17c0904a8816",
   "metadata": {},
   "outputs": [
    {
     "name": "stdout",
     "output_type": "stream",
     "text": [
      "[0, 1, 1, 2, 3, 5, 8, 13, 21, 34, 55, 89, 144, 233]\n"
     ]
    }
   ],
   "source": [
    "def fibonacci(n):\n",
    "    \"\"\"Computes the Fibonacci sequence up to a given number n with the first number in the sequence being zero.\n",
    "    \n",
    "    Parameters:\n",
    "    n: (int) The number of numbers in the Fibonacci sequence to compute. \n",
    "    Expected output for n = 14:\n",
    "    Fibonacci sequence: [0, 1, 1, 2, 3, 5, 8, 13, 21, 34, 55, 89, 144, 233]\n",
    "    \n",
    "    Return:\n",
    "    list of int\n",
    "    \"\"\"\n",
    "    sequence = [0, 1]\n",
    "    for _ in range(n - 2):\n",
    "        sequence.append(sequence[-1] + sequence[-2])\n",
    "    return sequence\n",
    "\n",
    "print(fibonacci(14))"
   ]
  },
  {
   "cell_type": "code",
   "execution_count": null,
   "id": "4f7e6c0a",
   "metadata": {},
   "outputs": [],
   "source": []
  }
 ],
 "metadata": {
  "kernelspec": {
   "display_name": "Python 3 (ipykernel)",
   "language": "python",
   "name": "python3"
  },
  "language_info": {
   "codemirror_mode": {
    "name": "ipython",
    "version": 3
   },
   "file_extension": ".py",
   "mimetype": "text/x-python",
   "name": "python",
   "nbconvert_exporter": "python",
   "pygments_lexer": "ipython3",
   "version": "3.11.5"
  }
 },
 "nbformat": 4,
 "nbformat_minor": 5
}
